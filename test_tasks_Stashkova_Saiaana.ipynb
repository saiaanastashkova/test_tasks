{
 "cells": [
  {
   "cell_type": "markdown",
   "id": "337daa93",
   "metadata": {
    "toc": true
   },
   "source": [
    "<h1>Table of Contents<span class=\"tocSkip\"></span></h1>\n",
    "<div class=\"toc\"><ul class=\"toc-item\"><li><span><a href=\"#Задание-№1.-Сегментирование\" data-toc-modified-id=\"Задание-№1.-Сегментирование-1\"><span class=\"toc-item-num\">1&nbsp;&nbsp;</span>Задание №1. Сегментирование</a></span><ul class=\"toc-item\"><li><span><a href=\"#Обзор-и-предобработка-данных\" data-toc-modified-id=\"Обзор-и-предобработка-данных-1.1\"><span class=\"toc-item-num\">1.1&nbsp;&nbsp;</span>Обзор и предобработка данных</a></span></li><li><span><a href=\"#Общее-исследование-данных\" data-toc-modified-id=\"Общее-исследование-данных-1.2\"><span class=\"toc-item-num\">1.2&nbsp;&nbsp;</span>Общее исследование данных</a></span></li><li><span><a href=\"#Исследование-клиентов-по-сегментам\" data-toc-modified-id=\"Исследование-клиентов-по-сегментам-1.3\"><span class=\"toc-item-num\">1.3&nbsp;&nbsp;</span>Исследование клиентов по сегментам</a></span></li><li><span><a href=\"#Разница-сегментов\" data-toc-modified-id=\"Разница-сегментов-1.4\"><span class=\"toc-item-num\">1.4&nbsp;&nbsp;</span>Разница сегментов</a></span></li><li><span><a href=\"#Ответы-на-вопросы-и-рекомендации\" data-toc-modified-id=\"Ответы-на-вопросы-и-рекомендации-1.5\"><span class=\"toc-item-num\">1.5&nbsp;&nbsp;</span>Ответы на вопросы и рекомендации</a></span></li></ul></li><li><span><a href=\"#Задание-№2.-Расчет-метрик\" data-toc-modified-id=\"Задание-№2.-Расчет-метрик-2\"><span class=\"toc-item-num\">2&nbsp;&nbsp;</span>Задание №2. Расчет метрик</a></span><ul class=\"toc-item\"><li><span><a href=\"#Часть-1\" data-toc-modified-id=\"Часть-1-2.1\"><span class=\"toc-item-num\">2.1&nbsp;&nbsp;</span>Часть 1</a></span><ul class=\"toc-item\"><li><span><a href=\"#Обзор-и-предобработка-данных\" data-toc-modified-id=\"Обзор-и-предобработка-данных-2.1.1\"><span class=\"toc-item-num\">2.1.1&nbsp;&nbsp;</span>Обзор и предобработка данных</a></span></li><li><span><a href=\"#Анализ-DAU,-расчет-средних-DAU-по-будням-и-выходным\" data-toc-modified-id=\"Анализ-DAU,-расчет-средних-DAU-по-будням-и-выходным-2.1.2\"><span class=\"toc-item-num\">2.1.2&nbsp;&nbsp;</span>Анализ DAU, расчет средних DAU по будням и выходным</a></span></li><li><span><a href=\"#MAU-в-сентябре-и-прогноз\" data-toc-modified-id=\"MAU-в-сентябре-и-прогноз-2.1.3\"><span class=\"toc-item-num\">2.1.3&nbsp;&nbsp;</span>MAU в сентябре и прогноз</a></span></li><li><span><a href=\"#Вывод-и-рекомендации\" data-toc-modified-id=\"Вывод-и-рекомендации-2.1.4\"><span class=\"toc-item-num\">2.1.4&nbsp;&nbsp;</span>Вывод и рекомендации</a></span></li></ul></li><li><span><a href=\"#Часть-2\" data-toc-modified-id=\"Часть-2-2.2\"><span class=\"toc-item-num\">2.2&nbsp;&nbsp;</span>Часть 2</a></span></li></ul></li><li><span><a href=\"#Задание-№3.-SQL\" data-toc-modified-id=\"Задание-№3.-SQL-3\"><span class=\"toc-item-num\">3&nbsp;&nbsp;</span>Задание №3. SQL</a></span><ul class=\"toc-item\"><li><span><a href=\"#Задача-1\" data-toc-modified-id=\"Задача-1-3.1\"><span class=\"toc-item-num\">3.1&nbsp;&nbsp;</span>Задача 1</a></span></li><li><span><a href=\"#Задача-2\" data-toc-modified-id=\"Задача-2-3.2\"><span class=\"toc-item-num\">3.2&nbsp;&nbsp;</span>Задача 2</a></span></li><li><span><a href=\"#Задача-3\" data-toc-modified-id=\"Задача-3-3.3\"><span class=\"toc-item-num\">3.3&nbsp;&nbsp;</span>Задача 3</a></span></li><li><span><a href=\"#Задача-4\" data-toc-modified-id=\"Задача-4-3.4\"><span class=\"toc-item-num\">3.4&nbsp;&nbsp;</span>Задача 4</a></span></li></ul></li></ul></div>"
   ]
  },
  {
   "cell_type": "markdown",
   "id": "129632ff",
   "metadata": {},
   "source": [
    "# Тестовое задание аналитика данных"
   ]
  },
  {
   "cell_type": "markdown",
   "id": "1c086be6",
   "metadata": {},
   "source": [
    "Выполнила: Сташкова Сайаана, соискатель на позицию Data analyst\n",
    "\n",
    "Дата: 11.09.2023"
   ]
  },
  {
   "cell_type": "markdown",
   "id": "20bb1894",
   "metadata": {},
   "source": [
    "## Задание №1. Сегментирование"
   ]
  },
  {
   "cell_type": "markdown",
   "id": "25c5483b",
   "metadata": {},
   "source": [
    "Приведены данные по оформлению кредита.\n",
    "\n",
    "В столбцах C, D, E - признак события. Если 1 - значит было событие, если пусто - то нет.\n",
    "\n",
    "Есть 3 группы клиентов (сегменты A, B, C)\n",
    "\n",
    "Необходимо:\n",
    "1. Cделать свод и показать все возможные показатели на основе данных\n",
    "2. Охарактеризовать каждую группу, написать краткие выводы, чем группы отличается друг от друга, есть ли отличия?\n",
    "3. Ответить на вопросы:\n",
    "\n",
    "3.1. Какую группу клиентов можно считать хорошей и почему? Хорошие - значит платежеспособные, способные выплачивать кредит.\n",
    "\n",
    "3.2. Какую группу можно считать плохой (клиенты с низкой вероятностью выплаты кредита)?"
   ]
  },
  {
   "cell_type": "markdown",
   "id": "03ed5093",
   "metadata": {},
   "source": [
    "### Обзор и предобработка данных"
   ]
  },
  {
   "cell_type": "code",
   "execution_count": 1,
   "id": "372f4c65",
   "metadata": {},
   "outputs": [],
   "source": [
    "# Импортируем нужные библиотеки \n",
    "import pandas as pd\n",
    "import numpy as np\n",
    "import datetime\n",
    "import matplotlib as plt\n",
    "import matplotlib.pyplot as plt\n",
    "import seaborn as sns"
   ]
  },
  {
   "cell_type": "code",
   "execution_count": 2,
   "id": "51b16826",
   "metadata": {},
   "outputs": [
    {
     "data": {
      "text/html": [
       "<div>\n",
       "<style scoped>\n",
       "    .dataframe tbody tr th:only-of-type {\n",
       "        vertical-align: middle;\n",
       "    }\n",
       "\n",
       "    .dataframe tbody tr th {\n",
       "        vertical-align: top;\n",
       "    }\n",
       "\n",
       "    .dataframe thead th {\n",
       "        text-align: right;\n",
       "    }\n",
       "</style>\n",
       "<table border=\"1\" class=\"dataframe\">\n",
       "  <thead>\n",
       "    <tr style=\"text-align: right;\">\n",
       "      <th></th>\n",
       "      <th>Идентификатор</th>\n",
       "      <th>Группа</th>\n",
       "      <th>Подавал заявку на кредит</th>\n",
       "      <th>Получил одобрение на кредит</th>\n",
       "      <th>Оформил Кредит</th>\n",
       "      <th>Сумма кредита</th>\n",
       "    </tr>\n",
       "  </thead>\n",
       "  <tbody>\n",
       "    <tr>\n",
       "      <th>0</th>\n",
       "      <td>18602163</td>\n",
       "      <td>Сегмент A</td>\n",
       "      <td>1.0</td>\n",
       "      <td>1.0</td>\n",
       "      <td>1.0</td>\n",
       "      <td>100000.0</td>\n",
       "    </tr>\n",
       "    <tr>\n",
       "      <th>1</th>\n",
       "      <td>18615389</td>\n",
       "      <td>Сегмент A</td>\n",
       "      <td>1.0</td>\n",
       "      <td>1.0</td>\n",
       "      <td>1.0</td>\n",
       "      <td>100000.0</td>\n",
       "    </tr>\n",
       "    <tr>\n",
       "      <th>2</th>\n",
       "      <td>18628615</td>\n",
       "      <td>Сегмент A</td>\n",
       "      <td>1.0</td>\n",
       "      <td>1.0</td>\n",
       "      <td>1.0</td>\n",
       "      <td>100000.0</td>\n",
       "    </tr>\n",
       "    <tr>\n",
       "      <th>3</th>\n",
       "      <td>18641841</td>\n",
       "      <td>Сегмент A</td>\n",
       "      <td>1.0</td>\n",
       "      <td>1.0</td>\n",
       "      <td>1.0</td>\n",
       "      <td>100000.0</td>\n",
       "    </tr>\n",
       "    <tr>\n",
       "      <th>4</th>\n",
       "      <td>18655067</td>\n",
       "      <td>Сегмент A</td>\n",
       "      <td>1.0</td>\n",
       "      <td>1.0</td>\n",
       "      <td>1.0</td>\n",
       "      <td>100000.0</td>\n",
       "    </tr>\n",
       "  </tbody>\n",
       "</table>\n",
       "</div>"
      ],
      "text/plain": [
       "   Идентификатор     Группа  Подавал заявку на кредит   \n",
       "0       18602163  Сегмент A                       1.0  \\\n",
       "1       18615389  Сегмент A                       1.0   \n",
       "2       18628615  Сегмент A                       1.0   \n",
       "3       18641841  Сегмент A                       1.0   \n",
       "4       18655067  Сегмент A                       1.0   \n",
       "\n",
       "   Получил одобрение на кредит  Оформил Кредит  Сумма кредита  \n",
       "0                          1.0             1.0       100000.0  \n",
       "1                          1.0             1.0       100000.0  \n",
       "2                          1.0             1.0       100000.0  \n",
       "3                          1.0             1.0       100000.0  \n",
       "4                          1.0             1.0       100000.0  "
      ]
     },
     "metadata": {},
     "output_type": "display_data"
    },
    {
     "name": "stdout",
     "output_type": "stream",
     "text": [
      "<class 'pandas.core.frame.DataFrame'>\n",
      "RangeIndex: 15000 entries, 0 to 14999\n",
      "Data columns (total 6 columns):\n",
      " #   Column                       Non-Null Count  Dtype  \n",
      "---  ------                       --------------  -----  \n",
      " 0   Идентификатор                15000 non-null  int64  \n",
      " 1   Группа                       15000 non-null  object \n",
      " 2   Подавал заявку на кредит     2150 non-null   float64\n",
      " 3   Получил одобрение на кредит  1160 non-null   float64\n",
      " 4   Оформил Кредит               700 non-null    float64\n",
      " 5   Сумма кредита                700 non-null    float64\n",
      "dtypes: float64(4), int64(1), object(1)\n",
      "memory usage: 703.2+ KB\n",
      "None\n"
     ]
    }
   ],
   "source": [
    "# Открываем файл из excel и посмотрим на его свойства\n",
    "df = pd.read_excel('credit_data.xlsx')\n",
    "display(df.head())\n",
    "print(df.info())"
   ]
  },
  {
   "cell_type": "code",
   "execution_count": 3,
   "id": "113b6c7e",
   "metadata": {},
   "outputs": [
    {
     "data": {
      "text/plain": [
       "15000"
      ]
     },
     "execution_count": 3,
     "metadata": {},
     "output_type": "execute_result"
    }
   ],
   "source": [
    "# Посчитаем количество уникальных идентификаторов\n",
    "df['Идентификатор'].nunique()"
   ]
  },
  {
   "cell_type": "markdown",
   "id": "fa2b4db8",
   "metadata": {},
   "source": [
    "Датасет состоит из 15000 строк с данными об уникальных пользователях. Есть пустые значения, которые обусловлены спецификой данных - не все клиенты подавали заявку на кредит, а из подавших не все получили ообрение и в дальнейшем его оформили. Количество строк по оформившим кредит и сумме кредита тождественны.\n",
    "\n",
    "Поэтому предобработка будет состоять из 3 этапов: \n",
    "1. Изменение названий столбцов для удобства\n",
    "2. Замена пустых значений на 0\n",
    "3. Изменение типов данных в столбцах с событиями (с float64 на int64)"
   ]
  },
  {
   "cell_type": "code",
   "execution_count": 4,
   "id": "30c0385e",
   "metadata": {},
   "outputs": [
    {
     "data": {
      "text/html": [
       "<div>\n",
       "<style scoped>\n",
       "    .dataframe tbody tr th:only-of-type {\n",
       "        vertical-align: middle;\n",
       "    }\n",
       "\n",
       "    .dataframe tbody tr th {\n",
       "        vertical-align: top;\n",
       "    }\n",
       "\n",
       "    .dataframe thead th {\n",
       "        text-align: right;\n",
       "    }\n",
       "</style>\n",
       "<table border=\"1\" class=\"dataframe\">\n",
       "  <thead>\n",
       "    <tr style=\"text-align: right;\">\n",
       "      <th></th>\n",
       "      <th>id</th>\n",
       "      <th>group</th>\n",
       "      <th>application</th>\n",
       "      <th>approval</th>\n",
       "      <th>credit</th>\n",
       "      <th>credit_amount</th>\n",
       "    </tr>\n",
       "  </thead>\n",
       "  <tbody>\n",
       "    <tr>\n",
       "      <th>0</th>\n",
       "      <td>18602163</td>\n",
       "      <td>Сегмент A</td>\n",
       "      <td>1.0</td>\n",
       "      <td>1.0</td>\n",
       "      <td>1.0</td>\n",
       "      <td>100000.0</td>\n",
       "    </tr>\n",
       "    <tr>\n",
       "      <th>1</th>\n",
       "      <td>18615389</td>\n",
       "      <td>Сегмент A</td>\n",
       "      <td>1.0</td>\n",
       "      <td>1.0</td>\n",
       "      <td>1.0</td>\n",
       "      <td>100000.0</td>\n",
       "    </tr>\n",
       "    <tr>\n",
       "      <th>2</th>\n",
       "      <td>18628615</td>\n",
       "      <td>Сегмент A</td>\n",
       "      <td>1.0</td>\n",
       "      <td>1.0</td>\n",
       "      <td>1.0</td>\n",
       "      <td>100000.0</td>\n",
       "    </tr>\n",
       "    <tr>\n",
       "      <th>3</th>\n",
       "      <td>18641841</td>\n",
       "      <td>Сегмент A</td>\n",
       "      <td>1.0</td>\n",
       "      <td>1.0</td>\n",
       "      <td>1.0</td>\n",
       "      <td>100000.0</td>\n",
       "    </tr>\n",
       "    <tr>\n",
       "      <th>4</th>\n",
       "      <td>18655067</td>\n",
       "      <td>Сегмент A</td>\n",
       "      <td>1.0</td>\n",
       "      <td>1.0</td>\n",
       "      <td>1.0</td>\n",
       "      <td>100000.0</td>\n",
       "    </tr>\n",
       "  </tbody>\n",
       "</table>\n",
       "</div>"
      ],
      "text/plain": [
       "         id      group  application  approval  credit  credit_amount\n",
       "0  18602163  Сегмент A          1.0       1.0     1.0       100000.0\n",
       "1  18615389  Сегмент A          1.0       1.0     1.0       100000.0\n",
       "2  18628615  Сегмент A          1.0       1.0     1.0       100000.0\n",
       "3  18641841  Сегмент A          1.0       1.0     1.0       100000.0\n",
       "4  18655067  Сегмент A          1.0       1.0     1.0       100000.0"
      ]
     },
     "execution_count": 4,
     "metadata": {},
     "output_type": "execute_result"
    }
   ],
   "source": [
    "# Заменим названия столбцов\n",
    "df.columns = ['id', 'group', 'application', 'approval', 'credit', 'credit_amount']\n",
    "df.head()"
   ]
  },
  {
   "cell_type": "code",
   "execution_count": 5,
   "id": "c8ce57e6",
   "metadata": {},
   "outputs": [],
   "source": [
    "# Заполним пустые значения нулем\n",
    "df[['application', 'approval', 'credit', 'credit_amount']] = \\\n",
    "df[['application', 'approval', 'credit', 'credit_amount']]. fillna (0)"
   ]
  },
  {
   "cell_type": "code",
   "execution_count": 6,
   "id": "43734218",
   "metadata": {},
   "outputs": [],
   "source": [
    "# Изменим тип данных в столбцах с событиями на целые числа\n",
    "df = df.astype({'application':'int','approval':'int', 'credit':'int'})"
   ]
  },
  {
   "cell_type": "code",
   "execution_count": 7,
   "id": "cebd0970",
   "metadata": {},
   "outputs": [
    {
     "data": {
      "text/html": [
       "<div>\n",
       "<style scoped>\n",
       "    .dataframe tbody tr th:only-of-type {\n",
       "        vertical-align: middle;\n",
       "    }\n",
       "\n",
       "    .dataframe tbody tr th {\n",
       "        vertical-align: top;\n",
       "    }\n",
       "\n",
       "    .dataframe thead th {\n",
       "        text-align: right;\n",
       "    }\n",
       "</style>\n",
       "<table border=\"1\" class=\"dataframe\">\n",
       "  <thead>\n",
       "    <tr style=\"text-align: right;\">\n",
       "      <th></th>\n",
       "      <th>id</th>\n",
       "      <th>group</th>\n",
       "      <th>application</th>\n",
       "      <th>approval</th>\n",
       "      <th>credit</th>\n",
       "      <th>credit_amount</th>\n",
       "    </tr>\n",
       "  </thead>\n",
       "  <tbody>\n",
       "    <tr>\n",
       "      <th>0</th>\n",
       "      <td>18602163</td>\n",
       "      <td>Сегмент A</td>\n",
       "      <td>1</td>\n",
       "      <td>1</td>\n",
       "      <td>1</td>\n",
       "      <td>100000.0</td>\n",
       "    </tr>\n",
       "    <tr>\n",
       "      <th>1</th>\n",
       "      <td>18615389</td>\n",
       "      <td>Сегмент A</td>\n",
       "      <td>1</td>\n",
       "      <td>1</td>\n",
       "      <td>1</td>\n",
       "      <td>100000.0</td>\n",
       "    </tr>\n",
       "    <tr>\n",
       "      <th>2</th>\n",
       "      <td>18628615</td>\n",
       "      <td>Сегмент A</td>\n",
       "      <td>1</td>\n",
       "      <td>1</td>\n",
       "      <td>1</td>\n",
       "      <td>100000.0</td>\n",
       "    </tr>\n",
       "    <tr>\n",
       "      <th>3</th>\n",
       "      <td>18641841</td>\n",
       "      <td>Сегмент A</td>\n",
       "      <td>1</td>\n",
       "      <td>1</td>\n",
       "      <td>1</td>\n",
       "      <td>100000.0</td>\n",
       "    </tr>\n",
       "    <tr>\n",
       "      <th>4</th>\n",
       "      <td>18655067</td>\n",
       "      <td>Сегмент A</td>\n",
       "      <td>1</td>\n",
       "      <td>1</td>\n",
       "      <td>1</td>\n",
       "      <td>100000.0</td>\n",
       "    </tr>\n",
       "  </tbody>\n",
       "</table>\n",
       "</div>"
      ],
      "text/plain": [
       "         id      group  application  approval  credit  credit_amount\n",
       "0  18602163  Сегмент A            1         1       1       100000.0\n",
       "1  18615389  Сегмент A            1         1       1       100000.0\n",
       "2  18628615  Сегмент A            1         1       1       100000.0\n",
       "3  18641841  Сегмент A            1         1       1       100000.0\n",
       "4  18655067  Сегмент A            1         1       1       100000.0"
      ]
     },
     "metadata": {},
     "output_type": "display_data"
    },
    {
     "name": "stdout",
     "output_type": "stream",
     "text": [
      "<class 'pandas.core.frame.DataFrame'>\n",
      "RangeIndex: 15000 entries, 0 to 14999\n",
      "Data columns (total 6 columns):\n",
      " #   Column         Non-Null Count  Dtype  \n",
      "---  ------         --------------  -----  \n",
      " 0   id             15000 non-null  int64  \n",
      " 1   group          15000 non-null  object \n",
      " 2   application    15000 non-null  int64  \n",
      " 3   approval       15000 non-null  int64  \n",
      " 4   credit         15000 non-null  int64  \n",
      " 5   credit_amount  15000 non-null  float64\n",
      "dtypes: float64(1), int64(4), object(1)\n",
      "memory usage: 703.2+ KB\n",
      "None\n"
     ]
    }
   ],
   "source": [
    "# Проверяем корректность проведенной предобработки\n",
    "display(df.head())\n",
    "print(df.info())"
   ]
  },
  {
   "cell_type": "markdown",
   "id": "4051da8c",
   "metadata": {},
   "source": [
    "Итоги предобработки:\n",
    "1. Названий столбцов для удобства заменены на латиницу\n",
    "2. Пустые значения заменены на 0\n",
    "3. Типы данных в столбцах с событиями изменены на целое число (1 - событие было, 0 - не было)"
   ]
  },
  {
   "cell_type": "markdown",
   "id": "206a751c",
   "metadata": {},
   "source": [
    "### Общее исследование данных"
   ]
  },
  {
   "cell_type": "markdown",
   "id": "e207bb8c",
   "metadata": {},
   "source": [
    "По имеющимся данным можно дать общую характеристику ситуации:\n",
    "1. Успешность выдачи кредитов в разбивке на события\n",
    "2. Сумма выданных кредитов"
   ]
  },
  {
   "cell_type": "code",
   "execution_count": 8,
   "id": "ed11f446",
   "metadata": {},
   "outputs": [],
   "source": [
    "# Сделаем сводную таблицу по событиям\n",
    "df_stages = df.groupby(['application', 'approval', 'credit'])['id'].count().reset_index()\n",
    "df_stages = df_stages.sort_values(by='id', ascending=False)"
   ]
  },
  {
   "cell_type": "code",
   "execution_count": 9,
   "id": "dc6400d2",
   "metadata": {},
   "outputs": [
    {
     "data": {
      "text/html": [
       "<div>\n",
       "<style scoped>\n",
       "    .dataframe tbody tr th:only-of-type {\n",
       "        vertical-align: middle;\n",
       "    }\n",
       "\n",
       "    .dataframe tbody tr th {\n",
       "        vertical-align: top;\n",
       "    }\n",
       "\n",
       "    .dataframe thead th {\n",
       "        text-align: right;\n",
       "    }\n",
       "</style>\n",
       "<table border=\"1\" class=\"dataframe\">\n",
       "  <thead>\n",
       "    <tr style=\"text-align: right;\">\n",
       "      <th></th>\n",
       "      <th>application</th>\n",
       "      <th>approval</th>\n",
       "      <th>credit</th>\n",
       "      <th>id</th>\n",
       "      <th>percent</th>\n",
       "    </tr>\n",
       "  </thead>\n",
       "  <tbody>\n",
       "    <tr>\n",
       "      <th>0</th>\n",
       "      <td>0</td>\n",
       "      <td>0</td>\n",
       "      <td>0</td>\n",
       "      <td>12850</td>\n",
       "      <td>85.67</td>\n",
       "    </tr>\n",
       "    <tr>\n",
       "      <th>1</th>\n",
       "      <td>1</td>\n",
       "      <td>0</td>\n",
       "      <td>0</td>\n",
       "      <td>990</td>\n",
       "      <td>6.60</td>\n",
       "    </tr>\n",
       "    <tr>\n",
       "      <th>3</th>\n",
       "      <td>1</td>\n",
       "      <td>1</td>\n",
       "      <td>1</td>\n",
       "      <td>700</td>\n",
       "      <td>4.67</td>\n",
       "    </tr>\n",
       "    <tr>\n",
       "      <th>2</th>\n",
       "      <td>1</td>\n",
       "      <td>1</td>\n",
       "      <td>0</td>\n",
       "      <td>460</td>\n",
       "      <td>3.07</td>\n",
       "    </tr>\n",
       "  </tbody>\n",
       "</table>\n",
       "</div>"
      ],
      "text/plain": [
       "   application  approval  credit     id  percent\n",
       "0            0         0       0  12850    85.67\n",
       "1            1         0       0    990     6.60\n",
       "3            1         1       1    700     4.67\n",
       "2            1         1       0    460     3.07"
      ]
     },
     "execution_count": 9,
     "metadata": {},
     "output_type": "execute_result"
    }
   ],
   "source": [
    "# Добавим значение доли в процентах от общего числа строк\n",
    "df_stages['percent'] = round(df_stages['id']/df['id'].count()*100, 2)\n",
    "df_stages"
   ]
  },
  {
   "cell_type": "markdown",
   "id": "351f3774",
   "metadata": {},
   "source": [
    "По сводной таблице можно сделать выводы:\n",
    "1. 85.67% (12850 человек) не подавали заявку на кредит\n",
    "2. 6.6% (990 человек) подали заявку, но не получили одобрение\n",
    "3. 4.67% (700 человек) получили одобрение на кредит и в дальнейшем смоги его оформить\n",
    "4. 3.07% (460 человек) получили одобрение на кредит, но не оформили его "
   ]
  },
  {
   "cell_type": "code",
   "execution_count": 10,
   "id": "2db5bf3d",
   "metadata": {},
   "outputs": [
    {
     "data": {
      "text/html": [
       "<div>\n",
       "<style scoped>\n",
       "    .dataframe tbody tr th:only-of-type {\n",
       "        vertical-align: middle;\n",
       "    }\n",
       "\n",
       "    .dataframe tbody tr th {\n",
       "        vertical-align: top;\n",
       "    }\n",
       "\n",
       "    .dataframe thead th {\n",
       "        text-align: right;\n",
       "    }\n",
       "</style>\n",
       "<table border=\"1\" class=\"dataframe\">\n",
       "  <thead>\n",
       "    <tr style=\"text-align: right;\">\n",
       "      <th></th>\n",
       "      <th>application</th>\n",
       "      <th>approval</th>\n",
       "      <th>credit</th>\n",
       "      <th>id</th>\n",
       "      <th>percent</th>\n",
       "      <th>share</th>\n",
       "    </tr>\n",
       "  </thead>\n",
       "  <tbody>\n",
       "    <tr>\n",
       "      <th>1</th>\n",
       "      <td>1</td>\n",
       "      <td>0</td>\n",
       "      <td>0</td>\n",
       "      <td>990</td>\n",
       "      <td>6.60</td>\n",
       "      <td>46.05</td>\n",
       "    </tr>\n",
       "    <tr>\n",
       "      <th>3</th>\n",
       "      <td>1</td>\n",
       "      <td>1</td>\n",
       "      <td>1</td>\n",
       "      <td>700</td>\n",
       "      <td>4.67</td>\n",
       "      <td>32.56</td>\n",
       "    </tr>\n",
       "    <tr>\n",
       "      <th>2</th>\n",
       "      <td>1</td>\n",
       "      <td>1</td>\n",
       "      <td>0</td>\n",
       "      <td>460</td>\n",
       "      <td>3.07</td>\n",
       "      <td>21.40</td>\n",
       "    </tr>\n",
       "  </tbody>\n",
       "</table>\n",
       "</div>"
      ],
      "text/plain": [
       "   application  approval  credit   id  percent  share\n",
       "1            1         0       0  990     6.60  46.05\n",
       "3            1         1       1  700     4.67  32.56\n",
       "2            1         1       0  460     3.07  21.40"
      ]
     },
     "execution_count": 10,
     "metadata": {},
     "output_type": "execute_result"
    }
   ],
   "source": [
    "# Посчитаем долю в процентах от количества клиентов, подавших заявку на кредит\n",
    "df_stages['share'] = round(df_stages['id']/df[df['application']==1]['id'].count()*100, 2)\n",
    "df_stages = df_stages[df_stages['application']==1]\n",
    "df_stages"
   ]
  },
  {
   "cell_type": "markdown",
   "id": "aae425a3",
   "metadata": {},
   "source": [
    "Итак, из подавших заявку на кредит:\n",
    "1. 46.05% не получили одобрение\n",
    "2. 32.56% получили одобрение, получили кредит\n",
    "3. 21.40% получили одобрение, но не получили кредит"
   ]
  },
  {
   "cell_type": "code",
   "execution_count": 11,
   "id": "b02ce051",
   "metadata": {},
   "outputs": [
    {
     "data": {
      "text/plain": [
       "81500000.0"
      ]
     },
     "execution_count": 11,
     "metadata": {},
     "output_type": "execute_result"
    }
   ],
   "source": [
    "# Посчитаем общую сумму выданных кредитов\n",
    "df['credit_amount'].sum()"
   ]
  },
  {
   "cell_type": "markdown",
   "id": "6cae24b2",
   "metadata": {},
   "source": [
    "Банк выдал кредиты на сумму 81 500 000 рублей."
   ]
  },
  {
   "cell_type": "markdown",
   "id": "a95c1bac",
   "metadata": {},
   "source": [
    "### Исследование клиентов по сегментам"
   ]
  },
  {
   "cell_type": "code",
   "execution_count": 12,
   "id": "bdc4e230",
   "metadata": {},
   "outputs": [
    {
     "data": {
      "text/html": [
       "<div>\n",
       "<style scoped>\n",
       "    .dataframe tbody tr th:only-of-type {\n",
       "        vertical-align: middle;\n",
       "    }\n",
       "\n",
       "    .dataframe tbody tr th {\n",
       "        vertical-align: top;\n",
       "    }\n",
       "\n",
       "    .dataframe thead th {\n",
       "        text-align: right;\n",
       "    }\n",
       "</style>\n",
       "<table border=\"1\" class=\"dataframe\">\n",
       "  <thead>\n",
       "    <tr style=\"text-align: right;\">\n",
       "      <th></th>\n",
       "      <th>group</th>\n",
       "      <th>application</th>\n",
       "      <th>approval</th>\n",
       "      <th>credit</th>\n",
       "      <th>credit_amount</th>\n",
       "      <th>share_approval</th>\n",
       "      <th>share__credit</th>\n",
       "    </tr>\n",
       "  </thead>\n",
       "  <tbody>\n",
       "    <tr>\n",
       "      <th>0</th>\n",
       "      <td>Сегмент A</td>\n",
       "      <td>750</td>\n",
       "      <td>450</td>\n",
       "      <td>240</td>\n",
       "      <td>24000000.0</td>\n",
       "      <td>60.00</td>\n",
       "      <td>53.33</td>\n",
       "    </tr>\n",
       "    <tr>\n",
       "      <th>1</th>\n",
       "      <td>Сегмент B</td>\n",
       "      <td>500</td>\n",
       "      <td>410</td>\n",
       "      <td>230</td>\n",
       "      <td>34500000.0</td>\n",
       "      <td>82.00</td>\n",
       "      <td>56.10</td>\n",
       "    </tr>\n",
       "    <tr>\n",
       "      <th>2</th>\n",
       "      <td>Сегмент C</td>\n",
       "      <td>900</td>\n",
       "      <td>300</td>\n",
       "      <td>230</td>\n",
       "      <td>23000000.0</td>\n",
       "      <td>33.33</td>\n",
       "      <td>76.67</td>\n",
       "    </tr>\n",
       "  </tbody>\n",
       "</table>\n",
       "</div>"
      ],
      "text/plain": [
       "       group  application  approval  credit  credit_amount  share_approval   \n",
       "0  Сегмент A          750       450     240     24000000.0           60.00  \\\n",
       "1  Сегмент B          500       410     230     34500000.0           82.00   \n",
       "2  Сегмент C          900       300     230     23000000.0           33.33   \n",
       "\n",
       "   share__credit  \n",
       "0          53.33  \n",
       "1          56.10  \n",
       "2          76.67  "
      ]
     },
     "execution_count": 12,
     "metadata": {},
     "output_type": "execute_result"
    }
   ],
   "source": [
    "# Рассмотрим эффективность выдачи кредитов в разрезе сегментов\n",
    "df_groups = df.pivot_table(\n",
    "    index='group', values=['application', 'approval', 'credit', 'credit_amount'],\\\n",
    "    aggfunc='sum').reset_index()\n",
    "df_groups['share_approval'] = round(df_groups['approval']/df_groups['application']*100,2)\n",
    "df_groups['share__credit'] = round(df_groups['credit']/df_groups['approval']*100,2)\n",
    "df_groups"
   ]
  },
  {
   "cell_type": "code",
   "execution_count": 13,
   "id": "1c33bc55",
   "metadata": {},
   "outputs": [
    {
     "data": {
      "text/plain": [
       "Text(0, 0.5, 'Количество выданных кредитов, ед.')"
      ]
     },
     "execution_count": 13,
     "metadata": {},
     "output_type": "execute_result"
    },
    {
     "data": {
      "image/png": "[encoded data removed]",
      "text/plain": [
       "<Figure size 1800x600 with 3 Axes>"
      ]
     },
     "metadata": {},
     "output_type": "display_data"
    }
   ],
   "source": [
    "# Визуализируем данные по сегментам\n",
    "fig, axs = plt.subplots(nrows=1, ncols=3, sharex=False, sharey=True, figsize=(18,6))\n",
    "plt.subplot(1, 3, 1)\n",
    "plt.title('Подано заявок на кредит')\n",
    "sns.barplot(data=df_groups, x='group', y='application', color='blue')\n",
    "plt.grid()\n",
    "plt.xlabel('Cегменты')\n",
    "plt.ylabel('Количество заявок, ед.')\n",
    "plt.subplot(1, 3, 2)\n",
    "plt.title('Получено одобрений')\n",
    "sns.barplot(data=df_groups, x='group', y='approval', color='blue')\n",
    "plt.grid()\n",
    "plt.xlabel('Cегменты')\n",
    "plt.ylabel('Количество одобрений на кредит, ед.')\n",
    "plt.subplot(1, 3, 3)\n",
    "plt.title('Выдано кредитов')\n",
    "sns.barplot(data=df_groups, x='group', y='credit', color='blue')\n",
    "plt.grid()\n",
    "plt.xlabel('Cегменты')\n",
    "plt.ylabel('Количество выданных кредитов, ед.')"
   ]
  },
  {
   "cell_type": "code",
   "execution_count": 35,
   "id": "d3370248",
   "metadata": {},
   "outputs": [
    {
     "data": {
      "text/plain": [
       "Text(0, 0.5, 'Сумма выданных кредитов, млн руб')"
      ]
     },
     "execution_count": 35,
     "metadata": {},
     "output_type": "execute_result"
    },
    {
     "data": {
      "image/png": "[encoded data removed]",
      "text/plain": [
       "<Figure size 600x400 with 1 Axes>"
      ]
     },
     "metadata": {},
     "output_type": "display_data"
    }
   ],
   "source": [
    "# Визуализируем данные по суммам выданных кредитов\n",
    "plt.figure(figsize=(6,4))\n",
    "plt.title('Выдача кредитов в разрезе сегментов клиентов, млн руб.')\n",
    "sns.barplot(data=df_groups, x='group', y='credit_amount', color='blue')\n",
    "plt.grid()\n",
    "plt.xlabel('Cегменты')\n",
    "plt.ylabel('Сумма выданных кредитов, млн руб')"
   ]
  },
  {
   "cell_type": "markdown",
   "id": "449a727d",
   "metadata": {},
   "source": [
    "### Разница сегментов\n",
    "1. **Сегмент C подает больше всего заявок на кредит** (900 ед.), но получает **меньше всего одобрений** (300 ед., 33.3% от поданных заявок). Выданных кредитов 230 ед.(76.7% от одобрений), **сумма также ниже остальных сегментов** - 23 000 000 руб.\n",
    "2. **Сегмент B подает меньше всего заявок на кредит** (500 ед.), но **процент одобрения у этих клиентов самый высокий** (410 ед. 82%). Выданных кредитов 230 ед. (56.1% от одобрений), но их **сумма значительно выше** остальных - 34 500 000 руб.\n",
    "3. **Сегмент A находится по середине вышеперечисленных**, при 750 заявках на кредит одобрение получают 450 заявок (60%), а кредитов выдано 240 ед. (53.3% от одобрений) на сумму 24 000 000 руб."
   ]
  },
  {
   "cell_type": "markdown",
   "id": "9a8bc458",
   "metadata": {},
   "source": [
    "### Ответы на вопросы и рекомендации"
   ]
  },
  {
   "cell_type": "markdown",
   "id": "631eed60",
   "metadata": {},
   "source": [
    "Исходя из результатов анализа можно сделать **выводы**:\n",
    "\n",
    "1. **Сегмент B можно считать хорошим** (платежеспособным), т.к. у них высокий процент одобрения заявок на кредит - 82%, а также сумма кредитов превышает остальные сегменты. Это значит, что клиенты данной группы потенциально имеют имеют возможность выплачивать кредиты - имеют хорошую кредитную историю, постоянный доход, не имеют административных ограничений.\n",
    "\n",
    "2. **Сегмент C можно считать плохим** (неплатежеспособным), потому что клиенты этой группы чаще всех остальных подают заявки на кредит, но реже всех получают одобрение (всего 33.3% от заявок). На примере Kaspi Bank отказ может быть обусловлен [причинами](https://guide.kaspi.kz/client/ru/cash_credit/receive/q224), которые ставят банк под риск невыплаты кредита:\n",
    "- Есть просроченная задолженность в Kaspi.kz или в другом банке.\n",
    "- Возраст меньше 18 лет.\n",
    "- На счета наложены ограничения.\n",
    "- Клиент является бездействующим налогоплательщиком.\n",
    "- Клиент - нерезидент Республики Казахстан.\n",
    "\n",
    "Из полученных выводов на основе этих данных, можно **порекомендовать руководству**:\n",
    "- Обратить внимание на клиентов Сегмента B как на потенциальную надежную целевую аудиторию\n",
    "- На основе более подробных данных изучить корреляцию характеристик клиентов этого сегмента на одобрение кредитных заявок (например, на успешный исход больше всего может влиять доход, уровень образования или возраст)\n",
    "- Активно продвигать среди этого Сегмента кредитные продукты банка - кредит наличными, автокредит, кредитная карта, кредит на покупки, рассрочка. Так как заявок на кредит у этих клиентов меньше, чем у остальных. "
   ]
  },
  {
   "cell_type": "markdown",
   "id": "b15df398",
   "metadata": {},
   "source": [
    "## Задание №2. Расчет метрик"
   ]
  },
  {
   "cell_type": "markdown",
   "id": "aca66b7a",
   "metadata": {},
   "source": [
    "### Часть 1"
   ]
  },
  {
   "cell_type": "markdown",
   "id": "b612408d",
   "metadata": {},
   "source": [
    "#### Обзор и предобработка данных"
   ]
  },
  {
   "cell_type": "markdown",
   "id": "bdcf948c",
   "metadata": {},
   "source": [
    "По [ссылке](https://docs.google.com/spreadsheets/d/1iZKiuqWtajHUC1Dw5vIVLPyTVw6PPBanu_PDoVO2kic/edit#gid=461575958) можно увидеть DAU продукта X в сентябре 2021 г.\n",
    "\n",
    "Посчитайте:\n",
    "1. Какой средний DAU в будние дни в сентябре?\n",
    "2. Какой средний DAU в выходные дни в сентябре?\n",
    "3. Какой MAU продукта X в сентябре?\n",
    "4. Прогноз MAU"
   ]
  },
  {
   "cell_type": "code",
   "execution_count": 15,
   "id": "b7d5a30c",
   "metadata": {},
   "outputs": [
    {
     "data": {
      "text/html": [
       "<div>\n",
       "<style scoped>\n",
       "    .dataframe tbody tr th:only-of-type {\n",
       "        vertical-align: middle;\n",
       "    }\n",
       "\n",
       "    .dataframe tbody tr th {\n",
       "        vertical-align: top;\n",
       "    }\n",
       "\n",
       "    .dataframe thead th {\n",
       "        text-align: right;\n",
       "    }\n",
       "</style>\n",
       "<table border=\"1\" class=\"dataframe\">\n",
       "  <thead>\n",
       "    <tr style=\"text-align: right;\">\n",
       "      <th></th>\n",
       "      <th>День</th>\n",
       "      <th>DAU</th>\n",
       "    </tr>\n",
       "  </thead>\n",
       "  <tbody>\n",
       "    <tr>\n",
       "      <th>0</th>\n",
       "      <td>2021-09-01</td>\n",
       "      <td>1628746</td>\n",
       "    </tr>\n",
       "    <tr>\n",
       "      <th>1</th>\n",
       "      <td>2021-09-02</td>\n",
       "      <td>1814210</td>\n",
       "    </tr>\n",
       "    <tr>\n",
       "      <th>2</th>\n",
       "      <td>2021-09-03</td>\n",
       "      <td>1582971</td>\n",
       "    </tr>\n",
       "    <tr>\n",
       "      <th>3</th>\n",
       "      <td>2021-09-04</td>\n",
       "      <td>1852413</td>\n",
       "    </tr>\n",
       "    <tr>\n",
       "      <th>4</th>\n",
       "      <td>2021-09-05</td>\n",
       "      <td>1565669</td>\n",
       "    </tr>\n",
       "  </tbody>\n",
       "</table>\n",
       "</div>"
      ],
      "text/plain": [
       "        День      DAU\n",
       "0 2021-09-01  1628746\n",
       "1 2021-09-02  1814210\n",
       "2 2021-09-03  1582971\n",
       "3 2021-09-04  1852413\n",
       "4 2021-09-05  1565669"
      ]
     },
     "metadata": {},
     "output_type": "display_data"
    },
    {
     "name": "stdout",
     "output_type": "stream",
     "text": [
      "<class 'pandas.core.frame.DataFrame'>\n",
      "RangeIndex: 30 entries, 0 to 29\n",
      "Data columns (total 2 columns):\n",
      " #   Column  Non-Null Count  Dtype         \n",
      "---  ------  --------------  -----         \n",
      " 0   День    30 non-null     datetime64[ns]\n",
      " 1   DAU     30 non-null     int64         \n",
      "dtypes: datetime64[ns](1), int64(1)\n",
      "memory usage: 608.0 bytes\n",
      "None\n"
     ]
    }
   ],
   "source": [
    "# Открываем файл из excel и посмотрим на его свойства\n",
    "df1 = pd.read_excel('Product Analyst DAU_MAU Task.xlsx')\n",
    "display(df1.head())\n",
    "print(df1.info())"
   ]
  },
  {
   "cell_type": "markdown",
   "id": "bb36e906",
   "metadata": {},
   "source": [
    "Таблица состоит из 30 строк с данными количестве уникальных пользователей в сутки (Daily Active Users). Даты указаны с 1 по 30 сентября 2021 года. Пустых значений нет.\n",
    "\n",
    "Предобработку данных проведем в три этапа:\n",
    "1. Переименуем столбцы в латиницу, нижний регистр\n",
    "2. Добавим столбец со значением дня недели\n",
    "3. Добавим столбец с указанием буднего или выходного дня"
   ]
  },
  {
   "cell_type": "code",
   "execution_count": 16,
   "id": "bbbdb3b2",
   "metadata": {},
   "outputs": [],
   "source": [
    "# Переименуем столбцы в латиницу, нижний регистр\n",
    "df1.columns = ['date', 'dau']"
   ]
  },
  {
   "cell_type": "code",
   "execution_count": 17,
   "id": "c3ed7d8b",
   "metadata": {},
   "outputs": [],
   "source": [
    "# Добавим столбец с номером дня недели, чтобы разделить дни на будни и выходные\n",
    "df1['weekday'] = df1['date'].dt.dayofweek"
   ]
  },
  {
   "cell_type": "code",
   "execution_count": 18,
   "id": "b7f14b14",
   "metadata": {},
   "outputs": [],
   "source": [
    "# Фунцкия определения будней и выходных по номеру дня\n",
    "def is_weekend(weekday):\n",
    "    if weekday == 6 or weekday == 0:\n",
    "        return \"weekend\"\n",
    "    else:\n",
    "        return \"workday\""
   ]
  },
  {
   "cell_type": "code",
   "execution_count": 19,
   "id": "03c96d4a",
   "metadata": {},
   "outputs": [],
   "source": [
    "# Добавляем столбец с указанием будней и выходных\n",
    "df1['day'] = df1['weekday'].apply(is_weekend)"
   ]
  },
  {
   "cell_type": "code",
   "execution_count": 20,
   "id": "84584f70",
   "metadata": {},
   "outputs": [
    {
     "data": {
      "text/html": [
       "<div>\n",
       "<style scoped>\n",
       "    .dataframe tbody tr th:only-of-type {\n",
       "        vertical-align: middle;\n",
       "    }\n",
       "\n",
       "    .dataframe tbody tr th {\n",
       "        vertical-align: top;\n",
       "    }\n",
       "\n",
       "    .dataframe thead th {\n",
       "        text-align: right;\n",
       "    }\n",
       "</style>\n",
       "<table border=\"1\" class=\"dataframe\">\n",
       "  <thead>\n",
       "    <tr style=\"text-align: right;\">\n",
       "      <th></th>\n",
       "      <th>date</th>\n",
       "      <th>dau</th>\n",
       "      <th>weekday</th>\n",
       "      <th>day</th>\n",
       "    </tr>\n",
       "  </thead>\n",
       "  <tbody>\n",
       "    <tr>\n",
       "      <th>0</th>\n",
       "      <td>2021-09-01</td>\n",
       "      <td>1628746</td>\n",
       "      <td>2</td>\n",
       "      <td>workday</td>\n",
       "    </tr>\n",
       "    <tr>\n",
       "      <th>1</th>\n",
       "      <td>2021-09-02</td>\n",
       "      <td>1814210</td>\n",
       "      <td>3</td>\n",
       "      <td>workday</td>\n",
       "    </tr>\n",
       "    <tr>\n",
       "      <th>2</th>\n",
       "      <td>2021-09-03</td>\n",
       "      <td>1582971</td>\n",
       "      <td>4</td>\n",
       "      <td>workday</td>\n",
       "    </tr>\n",
       "    <tr>\n",
       "      <th>3</th>\n",
       "      <td>2021-09-04</td>\n",
       "      <td>1852413</td>\n",
       "      <td>5</td>\n",
       "      <td>workday</td>\n",
       "    </tr>\n",
       "    <tr>\n",
       "      <th>4</th>\n",
       "      <td>2021-09-05</td>\n",
       "      <td>1565669</td>\n",
       "      <td>6</td>\n",
       "      <td>weekend</td>\n",
       "    </tr>\n",
       "  </tbody>\n",
       "</table>\n",
       "</div>"
      ],
      "text/plain": [
       "        date      dau  weekday      day\n",
       "0 2021-09-01  1628746        2  workday\n",
       "1 2021-09-02  1814210        3  workday\n",
       "2 2021-09-03  1582971        4  workday\n",
       "3 2021-09-04  1852413        5  workday\n",
       "4 2021-09-05  1565669        6  weekend"
      ]
     },
     "metadata": {},
     "output_type": "display_data"
    },
    {
     "name": "stdout",
     "output_type": "stream",
     "text": [
      "<class 'pandas.core.frame.DataFrame'>\n",
      "RangeIndex: 30 entries, 0 to 29\n",
      "Data columns (total 4 columns):\n",
      " #   Column   Non-Null Count  Dtype         \n",
      "---  ------   --------------  -----         \n",
      " 0   date     30 non-null     datetime64[ns]\n",
      " 1   dau      30 non-null     int64         \n",
      " 2   weekday  30 non-null     int32         \n",
      " 3   day      30 non-null     object        \n",
      "dtypes: datetime64[ns](1), int32(1), int64(1), object(1)\n",
      "memory usage: 968.0+ bytes\n",
      "None\n"
     ]
    }
   ],
   "source": [
    "# Проверяем корректность предобработки\n",
    "display(df1.head())\n",
    "print(df1.info())"
   ]
  },
  {
   "cell_type": "markdown",
   "id": "939c6031",
   "metadata": {},
   "source": [
    "В ходе предобработки:\n",
    "1. Переименованы столбцы в латиницу, нижний регистр\n",
    "2. Добавлен столбец со значением дня недели\n",
    "3. Добавлен столбец с указанием буднего и выходного дня"
   ]
  },
  {
   "cell_type": "markdown",
   "id": "7a789128",
   "metadata": {},
   "source": [
    "#### Анализ DAU, расчет средних DAU по будням и выходным"
   ]
  },
  {
   "cell_type": "code",
   "execution_count": 21,
   "id": "d0aecbfd",
   "metadata": {},
   "outputs": [
    {
     "data": {
      "text/plain": [
       "count    3.000000e+01\n",
       "mean     1.753425e+06\n",
       "std      1.421594e+05\n",
       "min      1.542724e+06\n",
       "25%      1.601521e+06\n",
       "50%      1.777674e+06\n",
       "75%      1.857590e+06\n",
       "max      1.978025e+06\n",
       "Name: dau, dtype: float64"
      ]
     },
     "execution_count": 21,
     "metadata": {},
     "output_type": "execute_result"
    }
   ],
   "source": [
    "# Посмотрим на статистические характеристики DAU\n",
    "df1['dau'].describe()"
   ]
  },
  {
   "cell_type": "markdown",
   "id": "a424164f",
   "metadata": {},
   "source": [
    "DAU варьируется от минимума 1.54 млн до максимума 1.98 млн пользователей.\n",
    "Средняя 1.75 млн, медиана 1.78 млн."
   ]
  },
  {
   "cell_type": "code",
   "execution_count": 22,
   "id": "21629186",
   "metadata": {},
   "outputs": [
    {
     "data": {
      "text/plain": [
       "Text(0, 0.5, 'Количество уникальных пользователей')"
      ]
     },
     "execution_count": 22,
     "metadata": {},
     "output_type": "execute_result"
    },
    {
     "data": {
      "image/png": "[encoded data removed]",
      "text/plain": [
       "<Figure size 1200x400 with 1 Axes>"
      ]
     },
     "metadata": {},
     "output_type": "display_data"
    }
   ],
   "source": [
    "# Визуализируем значение DAU по всем дням\n",
    "fig, ax = plt.subplots(figsize=(12,4))\n",
    "sns.barplot(data=df1, x='date', y='dau', color=\"blue\")\n",
    "plt.xticks(rotation=90)\n",
    "plt.title('DAU по дням')\n",
    "plt.xlabel('Дата')\n",
    "plt.ylabel('Количество уникальных пользователей')"
   ]
  },
  {
   "cell_type": "markdown",
   "id": "aace3a7b",
   "metadata": {},
   "source": [
    "По графику видно, что количество уникальных пользователей немного варьируется в течение месяца, но не наблюдается видимых тредов роста или падения."
   ]
  },
  {
   "cell_type": "code",
   "execution_count": 23,
   "id": "d0d5e677",
   "metadata": {},
   "outputs": [
    {
     "data": {
      "text/plain": [
       "Text(0, 0.5, 'Значение')"
      ]
     },
     "execution_count": 23,
     "metadata": {},
     "output_type": "execute_result"
    },
    {
     "data": {
      "image/png": "[encoded data removed]",
      "text/plain": [
       "<Figure size 600x600 with 1 Axes>"
      ]
     },
     "metadata": {},
     "output_type": "display_data"
    }
   ],
   "source": [
    "# Визуализируем значение DAU в разрезе выходных и будней в виде \"ящика с усами\"\n",
    "fig, ax = plt.subplots(figsize=(6,6))\n",
    "sns.boxplot(data=df1, y='dau', x = 'day', color='blue')\n",
    "plt.title('Распределение DAU')\n",
    "plt.xlabel('DAU')\n",
    "plt.ylabel('Значение')"
   ]
  },
  {
   "cell_type": "markdown",
   "id": "938d063e",
   "metadata": {},
   "source": [
    "В разрезе дней на будни и выходные видно, что \"размах\" большинства DAU в будние дни шире (нижний квартиль 1.6 млн, верхний квартиль почти у 1.88 млн), чем в выходные (нижний квартиль  1.7 млн, верхний квартиль почти 1.8 млн)."
   ]
  },
  {
   "cell_type": "code",
   "execution_count": 24,
   "id": "36133b20",
   "metadata": {},
   "outputs": [
    {
     "name": "stdout",
     "output_type": "stream",
     "text": [
      "Среднее значение DAU в будни: 1753635.18\n",
      "Среднее значение DAU в выходные: 1752846.62\n"
     ]
    }
   ],
   "source": [
    "# Выведем средние и медианные значения DAU в будни и выходные\n",
    "print('Среднее значение DAU в будни:', round(df1[df1['day']=='workday']['dau'].mean(),2))\n",
    "print('Среднее значение DAU в выходные:', round(df1[df1['day']=='weekend']['dau'].mean(),2))"
   ]
  },
  {
   "cell_type": "markdown",
   "id": "c00e8a6d",
   "metadata": {},
   "source": [
    "Cредние значения DAU различаются чуть меньше, чем на тысячу (1753635 в будни и 1752846 в выходные)."
   ]
  },
  {
   "cell_type": "markdown",
   "id": "2f8830f4",
   "metadata": {},
   "source": [
    "#### MAU в сентябре и прогноз"
   ]
  },
  {
   "cell_type": "markdown",
   "id": "511c0764",
   "metadata": {},
   "source": [
    "MAU (Monthly Active Users) - это метрика, отражающая количество уникальных пользователей, взаимодействовавших с продуктом в течение месяца.\n",
    "Соберите данные DAU:\n",
    "\n",
    "У нас есть данные за каждый день в сентябре - 30 значений DAU.\n",
    "\n",
    "- Для расчета MAU нужно знать число уникальных пользователей посетило продукт Х за месяц. В значениях DAU разных дней пользователи могут встречаться несколько раз, например, если один пользователь заходил на сайт 01.09.2021 и 05.09.2021. Поэтому в идеале нужно иметь расшифрову уникальных id пользователей за каждый день и посчитать их количество (например, функцией **nunique**).\n",
    "\n",
    "- Так как у нас нет подробных данных, мы можем использовать значения DAU как приближенные. Тогда MAU будет равен сумме всех DAU за месяц. "
   ]
  },
  {
   "cell_type": "code",
   "execution_count": 25,
   "id": "58cc3cd3",
   "metadata": {},
   "outputs": [
    {
     "name": "stdout",
     "output_type": "stream",
     "text": [
      "MAU за сентябрь: 52602747\n"
     ]
    }
   ],
   "source": [
    "# Рассчитаем MAU (Monthly Active Users) как сумму всех DAU\n",
    "print('MAU за сентябрь:', df1['dau'].sum())"
   ]
  },
  {
   "cell_type": "markdown",
   "id": "671bbdb8",
   "metadata": {},
   "source": [
    "MAU за сентябрь составил 52 602 747 пользователей."
   ]
  },
  {
   "cell_type": "markdown",
   "id": "1264420f",
   "metadata": {},
   "source": [
    "Прогнозирование MAU на будущий месяц требует:\n",
    "\n",
    "- Исторические данные (за несколько месяцев)\n",
    "- Можно использовать различные методы прогнозирования, такие как временные ряды, регрессионный анализ, машинное обучение и другие.\n",
    "- Можно изучить другие факторы, которые могут влиять на MAU (например, маркетинговые кампании, новый контент и т.д.).\n",
    "- Следите за тем, как реальные данные соотносятся с вашими прогнозами. Если прогнозы часто оказываются неточными, обратитесь к данным, проверьте модель и попробуйте улучшить ее.\n",
    "- Анализ внешних факторов."
   ]
  },
  {
   "cell_type": "markdown",
   "id": "bf0ba674",
   "metadata": {},
   "source": [
    "Так как по данным DAU в сентябре 2021 г. нет заметных линий тренда, то на октябрь 2021 г. можно предположить:\n",
    "\n",
    "MAU октября = Средний DAU выходного дня в сентябре * кол-во выходных в октябре + Средний DAU буднего дня в сентябре * кол-во будней в октябре."
   ]
  },
  {
   "cell_type": "code",
   "execution_count": 26,
   "id": "54c9fffd",
   "metadata": {},
   "outputs": [
    {
     "name": "stdout",
     "output_type": "stream",
     "text": [
      "Прогноз MAU за октябрь: 54354805\n"
     ]
    }
   ],
   "source": [
    "# Прогноз MAU в октябре\n",
    "\n",
    "print('Прогноз MAU за октябрь:',\n",
    "      round(df1[df1['day']=='workday']['dau'].mean(\n",
    "      )*21+df1[df1['day']=='weekend']['dau'].mean()*10))"
   ]
  },
  {
   "cell_type": "markdown",
   "id": "baa9c89c",
   "metadata": {},
   "source": [
    "#### Вывод и рекомендации"
   ]
  },
  {
   "cell_type": "markdown",
   "id": "6c3e5a3c",
   "metadata": {},
   "source": [
    "- DAU в сентябре варьируется от минимума 1,54 млн до 1.98 млн пользователей. Средняя 1.75 млн, медиана 1.78 млн.\n",
    "\n",
    "- По графику видно, что количество уникальных пользователей немного варьируется в течение месяца, но не наблюдается видимых тредов роста или падения. В разрезе дней на будни и выходные видно, что \"размах\" большинства DAU в будние дни шире, чем в выходные.\n",
    "\n",
    "- **Cредние значения DAU различаются чуть меньше, чем на тысячу (1753635 в будни и 1752846 в выходные)**.\n",
    "\n",
    "- **MAU за сентябрь составил 52 602 747 пользователей**, если считать его как сумму DAU за все дни месяца.\n",
    "- **MAU в октябре предположительно может составить 54 354 805 пользователей**, если считать его как произведение сентябрьские DAU выходных и будней на соответсвующие дни октября.\n",
    "\n",
    "**Рекомендации**:\n",
    "\n",
    "- На будущих исследованиях лучше определять будни, выходные и праздничные дни согласно [производственному календарю Республики Казахстан](https://www.1cbit.kz/proizvodstvennyj-kalendar-2021/), например, с использованием отдельного датасета или с помощью парсинга.\n",
    "\n",
    "- Для наглядности исследования можно сравнить DAU в будни и выходные на статистических тестах (например, t-test).\n",
    "\n",
    "- Для расчета MAU желательно смотреть действительное количество уникальных пользователей, изучая их id. "
   ]
  },
  {
   "cell_type": "markdown",
   "id": "7b8d73db",
   "metadata": {},
   "source": [
    "### Часть 2"
   ]
  },
  {
   "cell_type": "markdown",
   "id": "a6fef6a6",
   "metadata": {},
   "source": [
    "Продукт X запустился в январе 2021 года. По [ссылке](https://docs.google.com/spreadsheets/d/1wZvH1QeUXL9-iFEiYCTh3Z4OJKHHASCWx8-SII7o2EE/edit#gid=2032286319) доступны данные по месячному Retention продукта из первого посещения в повторный заход и количество новых пользователей в каждом месяце.\n",
    "Опираясь на эти данные, скажите, какой MAU будет у продукта X в октябре 2021."
   ]
  },
  {
   "cell_type": "code",
   "execution_count": 27,
   "id": "1a80d889",
   "metadata": {},
   "outputs": [
    {
     "data": {
      "text/html": [
       "<div>\n",
       "<style scoped>\n",
       "    .dataframe tbody tr th:only-of-type {\n",
       "        vertical-align: middle;\n",
       "    }\n",
       "\n",
       "    .dataframe tbody tr th {\n",
       "        vertical-align: top;\n",
       "    }\n",
       "\n",
       "    .dataframe thead th {\n",
       "        text-align: right;\n",
       "    }\n",
       "</style>\n",
       "<table border=\"1\" class=\"dataframe\">\n",
       "  <thead>\n",
       "    <tr style=\"text-align: right;\">\n",
       "      <th></th>\n",
       "      <th>Unnamed: 0</th>\n",
       "      <th>Retention новых пользователей</th>\n",
       "      <th>Новые пользователи</th>\n",
       "    </tr>\n",
       "  </thead>\n",
       "  <tbody>\n",
       "    <tr>\n",
       "      <th>0</th>\n",
       "      <td>0 month</td>\n",
       "      <td>1.0000</td>\n",
       "      <td>0.0</td>\n",
       "    </tr>\n",
       "    <tr>\n",
       "      <th>1</th>\n",
       "      <td>1 month</td>\n",
       "      <td>0.2053</td>\n",
       "      <td>12000.0</td>\n",
       "    </tr>\n",
       "    <tr>\n",
       "      <th>2</th>\n",
       "      <td>2 month</td>\n",
       "      <td>0.1812</td>\n",
       "      <td>11500.0</td>\n",
       "    </tr>\n",
       "    <tr>\n",
       "      <th>3</th>\n",
       "      <td>3 month</td>\n",
       "      <td>0.1715</td>\n",
       "      <td>10000.0</td>\n",
       "    </tr>\n",
       "    <tr>\n",
       "      <th>4</th>\n",
       "      <td>4 month</td>\n",
       "      <td>0.1595</td>\n",
       "      <td>17000.0</td>\n",
       "    </tr>\n",
       "    <tr>\n",
       "      <th>5</th>\n",
       "      <td>5 month</td>\n",
       "      <td>0.1440</td>\n",
       "      <td>14350.0</td>\n",
       "    </tr>\n",
       "    <tr>\n",
       "      <th>6</th>\n",
       "      <td>6 month</td>\n",
       "      <td>0.1400</td>\n",
       "      <td>12200.0</td>\n",
       "    </tr>\n",
       "    <tr>\n",
       "      <th>7</th>\n",
       "      <td>7 month</td>\n",
       "      <td>0.1400</td>\n",
       "      <td>11100.0</td>\n",
       "    </tr>\n",
       "    <tr>\n",
       "      <th>8</th>\n",
       "      <td>8 month</td>\n",
       "      <td>0.1400</td>\n",
       "      <td>14784.0</td>\n",
       "    </tr>\n",
       "    <tr>\n",
       "      <th>9</th>\n",
       "      <td>9 month</td>\n",
       "      <td>0.1400</td>\n",
       "      <td>13347.0</td>\n",
       "    </tr>\n",
       "    <tr>\n",
       "      <th>10</th>\n",
       "      <td>10 month</td>\n",
       "      <td>0.1400</td>\n",
       "      <td>20220.0</td>\n",
       "    </tr>\n",
       "    <tr>\n",
       "      <th>11</th>\n",
       "      <td>11 month</td>\n",
       "      <td>0.1400</td>\n",
       "      <td>0.0</td>\n",
       "    </tr>\n",
       "    <tr>\n",
       "      <th>12</th>\n",
       "      <td>12 month</td>\n",
       "      <td>0.1400</td>\n",
       "      <td>0.0</td>\n",
       "    </tr>\n",
       "  </tbody>\n",
       "</table>\n",
       "</div>"
      ],
      "text/plain": [
       "   Unnamed: 0  Retention новых пользователей  Новые пользователи\n",
       "0     0 month                         1.0000                 0.0\n",
       "1     1 month                         0.2053             12000.0\n",
       "2     2 month                         0.1812             11500.0\n",
       "3     3 month                         0.1715             10000.0\n",
       "4     4 month                         0.1595             17000.0\n",
       "5     5 month                         0.1440             14350.0\n",
       "6     6 month                         0.1400             12200.0\n",
       "7     7 month                         0.1400             11100.0\n",
       "8     8 month                         0.1400             14784.0\n",
       "9     9 month                         0.1400             13347.0\n",
       "10   10 month                         0.1400             20220.0\n",
       "11   11 month                         0.1400                 0.0\n",
       "12   12 month                         0.1400                 0.0"
      ]
     },
     "execution_count": 27,
     "metadata": {},
     "output_type": "execute_result"
    }
   ],
   "source": [
    "# Откроем объединенные таблицы с месячным Retention и количеством новых пользователей\n",
    "df2 = pd.read_excel('Product Analyst Retention Task1.xlsx')\n",
    "df2 = df2.fillna(0)\n",
    "df2"
   ]
  },
  {
   "cell_type": "code",
   "execution_count": 28,
   "id": "f7bb0406",
   "metadata": {},
   "outputs": [],
   "source": [
    "# Переименуем столбцы\n",
    "df2.columns = ['month', 'rr', 'new_users']"
   ]
  },
  {
   "cell_type": "markdown",
   "id": "f03b96c3",
   "metadata": {},
   "source": [
    "Имея данные о числе новых пользователей и коэффициенте возврата по месяцам (Retention rate), можно использовать следующий метод для расчета MAU:\n",
    "\n",
    ">  **MAU = new_users + new_users * RR**\n",
    "\n",
    "Поэтому MAU в октябре будет равен:\n",
    ">  **MAU(октябрь) = 20220 + 20220 * 0.14 = 23050,8**"
   ]
  },
  {
   "cell_type": "code",
   "execution_count": 29,
   "id": "f482e8c7",
   "metadata": {},
   "outputs": [
    {
     "data": {
      "text/html": [
       "<div>\n",
       "<style scoped>\n",
       "    .dataframe tbody tr th:only-of-type {\n",
       "        vertical-align: middle;\n",
       "    }\n",
       "\n",
       "    .dataframe tbody tr th {\n",
       "        vertical-align: top;\n",
       "    }\n",
       "\n",
       "    .dataframe thead th {\n",
       "        text-align: right;\n",
       "    }\n",
       "</style>\n",
       "<table border=\"1\" class=\"dataframe\">\n",
       "  <thead>\n",
       "    <tr style=\"text-align: right;\">\n",
       "      <th></th>\n",
       "      <th>month</th>\n",
       "      <th>rr</th>\n",
       "      <th>new_users</th>\n",
       "      <th>mau</th>\n",
       "    </tr>\n",
       "  </thead>\n",
       "  <tbody>\n",
       "    <tr>\n",
       "      <th>0</th>\n",
       "      <td>0 month</td>\n",
       "      <td>1.0000</td>\n",
       "      <td>0.0</td>\n",
       "      <td>0.00</td>\n",
       "    </tr>\n",
       "    <tr>\n",
       "      <th>1</th>\n",
       "      <td>1 month</td>\n",
       "      <td>0.2053</td>\n",
       "      <td>12000.0</td>\n",
       "      <td>14463.60</td>\n",
       "    </tr>\n",
       "    <tr>\n",
       "      <th>2</th>\n",
       "      <td>2 month</td>\n",
       "      <td>0.1812</td>\n",
       "      <td>11500.0</td>\n",
       "      <td>13583.80</td>\n",
       "    </tr>\n",
       "    <tr>\n",
       "      <th>3</th>\n",
       "      <td>3 month</td>\n",
       "      <td>0.1715</td>\n",
       "      <td>10000.0</td>\n",
       "      <td>11715.00</td>\n",
       "    </tr>\n",
       "    <tr>\n",
       "      <th>4</th>\n",
       "      <td>4 month</td>\n",
       "      <td>0.1595</td>\n",
       "      <td>17000.0</td>\n",
       "      <td>19711.50</td>\n",
       "    </tr>\n",
       "    <tr>\n",
       "      <th>5</th>\n",
       "      <td>5 month</td>\n",
       "      <td>0.1440</td>\n",
       "      <td>14350.0</td>\n",
       "      <td>16416.40</td>\n",
       "    </tr>\n",
       "    <tr>\n",
       "      <th>6</th>\n",
       "      <td>6 month</td>\n",
       "      <td>0.1400</td>\n",
       "      <td>12200.0</td>\n",
       "      <td>13908.00</td>\n",
       "    </tr>\n",
       "    <tr>\n",
       "      <th>7</th>\n",
       "      <td>7 month</td>\n",
       "      <td>0.1400</td>\n",
       "      <td>11100.0</td>\n",
       "      <td>12654.00</td>\n",
       "    </tr>\n",
       "    <tr>\n",
       "      <th>8</th>\n",
       "      <td>8 month</td>\n",
       "      <td>0.1400</td>\n",
       "      <td>14784.0</td>\n",
       "      <td>16853.76</td>\n",
       "    </tr>\n",
       "    <tr>\n",
       "      <th>9</th>\n",
       "      <td>9 month</td>\n",
       "      <td>0.1400</td>\n",
       "      <td>13347.0</td>\n",
       "      <td>15215.58</td>\n",
       "    </tr>\n",
       "    <tr>\n",
       "      <th>10</th>\n",
       "      <td>10 month</td>\n",
       "      <td>0.1400</td>\n",
       "      <td>20220.0</td>\n",
       "      <td>23050.80</td>\n",
       "    </tr>\n",
       "    <tr>\n",
       "      <th>11</th>\n",
       "      <td>11 month</td>\n",
       "      <td>0.1400</td>\n",
       "      <td>0.0</td>\n",
       "      <td>0.00</td>\n",
       "    </tr>\n",
       "    <tr>\n",
       "      <th>12</th>\n",
       "      <td>12 month</td>\n",
       "      <td>0.1400</td>\n",
       "      <td>0.0</td>\n",
       "      <td>0.00</td>\n",
       "    </tr>\n",
       "  </tbody>\n",
       "</table>\n",
       "</div>"
      ],
      "text/plain": [
       "       month      rr  new_users       mau\n",
       "0    0 month  1.0000        0.0      0.00\n",
       "1    1 month  0.2053    12000.0  14463.60\n",
       "2    2 month  0.1812    11500.0  13583.80\n",
       "3    3 month  0.1715    10000.0  11715.00\n",
       "4    4 month  0.1595    17000.0  19711.50\n",
       "5    5 month  0.1440    14350.0  16416.40\n",
       "6    6 month  0.1400    12200.0  13908.00\n",
       "7    7 month  0.1400    11100.0  12654.00\n",
       "8    8 month  0.1400    14784.0  16853.76\n",
       "9    9 month  0.1400    13347.0  15215.58\n",
       "10  10 month  0.1400    20220.0  23050.80\n",
       "11  11 month  0.1400        0.0      0.00\n",
       "12  12 month  0.1400        0.0      0.00"
      ]
     },
     "execution_count": 29,
     "metadata": {},
     "output_type": "execute_result"
    }
   ],
   "source": [
    "# Применим функцию ко всей таблице\n",
    "df2['mau'] = df2['new_users'] + df2['new_users']*df2['rr']\n",
    "df2"
   ]
  },
  {
   "cell_type": "markdown",
   "id": "2b398bb2",
   "metadata": {},
   "source": [
    "## Задание №3. SQL"
   ]
  },
  {
   "attachments": {},
   "cell_type": "markdown",
   "id": "7546bef7",
   "metadata": {},
   "source": [
    "### Задача 1\n",
    "Вывести список клиентов с действующим (непогашенным) кредитом (id клиента, имя, город), используя таблицы ниже."
   ]
  },
  {
   "cell_type": "code",
   "execution_count": 30,
   "id": "30003167",
   "metadata": {},
   "outputs": [
    {
     "data": {
      "text/html": [
       "<div>\n",
       "<style scoped>\n",
       "    .dataframe tbody tr th:only-of-type {\n",
       "        vertical-align: middle;\n",
       "    }\n",
       "\n",
       "    .dataframe tbody tr th {\n",
       "        vertical-align: top;\n",
       "    }\n",
       "\n",
       "    .dataframe thead th {\n",
       "        text-align: right;\n",
       "    }\n",
       "</style>\n",
       "<table border=\"1\" class=\"dataframe\">\n",
       "  <thead>\n",
       "    <tr style=\"text-align: right;\">\n",
       "      <th></th>\n",
       "      <th>CREDIT_CONTRACT_ID</th>\n",
       "      <th>START_DATE</th>\n",
       "      <th>END_DATE</th>\n",
       "      <th>CUSTOMER_ID</th>\n",
       "      <th>CREDIT_AMOUNT</th>\n",
       "    </tr>\n",
       "  </thead>\n",
       "  <tbody>\n",
       "    <tr>\n",
       "      <th>0</th>\n",
       "      <td>1</td>\n",
       "      <td>2015-10-15</td>\n",
       "      <td>2015-12-30</td>\n",
       "      <td>1</td>\n",
       "      <td>1000</td>\n",
       "    </tr>\n",
       "    <tr>\n",
       "      <th>1</th>\n",
       "      <td>2</td>\n",
       "      <td>2015-12-14</td>\n",
       "      <td>NaT</td>\n",
       "      <td>2</td>\n",
       "      <td>2000</td>\n",
       "    </tr>\n",
       "    <tr>\n",
       "      <th>2</th>\n",
       "      <td>3</td>\n",
       "      <td>2015-10-20</td>\n",
       "      <td>NaT</td>\n",
       "      <td>3</td>\n",
       "      <td>15000</td>\n",
       "    </tr>\n",
       "    <tr>\n",
       "      <th>3</th>\n",
       "      <td>4</td>\n",
       "      <td>2014-10-04</td>\n",
       "      <td>2014-03-20</td>\n",
       "      <td>1</td>\n",
       "      <td>50000</td>\n",
       "    </tr>\n",
       "    <tr>\n",
       "      <th>4</th>\n",
       "      <td>5</td>\n",
       "      <td>2014-05-31</td>\n",
       "      <td>2015-07-05</td>\n",
       "      <td>1</td>\n",
       "      <td>4000</td>\n",
       "    </tr>\n",
       "    <tr>\n",
       "      <th>5</th>\n",
       "      <td>6</td>\n",
       "      <td>2014-10-05</td>\n",
       "      <td>2015-10-05</td>\n",
       "      <td>3</td>\n",
       "      <td>7000</td>\n",
       "    </tr>\n",
       "    <tr>\n",
       "      <th>6</th>\n",
       "      <td>7</td>\n",
       "      <td>2015-12-28</td>\n",
       "      <td>NaT</td>\n",
       "      <td>4</td>\n",
       "      <td>80000</td>\n",
       "    </tr>\n",
       "    <tr>\n",
       "      <th>7</th>\n",
       "      <td>8</td>\n",
       "      <td>2015-07-10</td>\n",
       "      <td>NaT</td>\n",
       "      <td>5</td>\n",
       "      <td>50000</td>\n",
       "    </tr>\n",
       "    <tr>\n",
       "      <th>8</th>\n",
       "      <td>9</td>\n",
       "      <td>2015-06-30</td>\n",
       "      <td>NaT</td>\n",
       "      <td>6</td>\n",
       "      <td>29000</td>\n",
       "    </tr>\n",
       "    <tr>\n",
       "      <th>9</th>\n",
       "      <td>10</td>\n",
       "      <td>2015-04-09</td>\n",
       "      <td>NaT</td>\n",
       "      <td>7</td>\n",
       "      <td>8000</td>\n",
       "    </tr>\n",
       "    <tr>\n",
       "      <th>10</th>\n",
       "      <td>11</td>\n",
       "      <td>2015-01-20</td>\n",
       "      <td>NaT</td>\n",
       "      <td>8</td>\n",
       "      <td>68000</td>\n",
       "    </tr>\n",
       "    <tr>\n",
       "      <th>11</th>\n",
       "      <td>12</td>\n",
       "      <td>2015-10-27</td>\n",
       "      <td>NaT</td>\n",
       "      <td>9</td>\n",
       "      <td>7000</td>\n",
       "    </tr>\n",
       "  </tbody>\n",
       "</table>\n",
       "</div>"
      ],
      "text/plain": [
       "    CREDIT_CONTRACT_ID START_DATE   END_DATE  CUSTOMER_ID  CREDIT_AMOUNT\n",
       "0                    1 2015-10-15 2015-12-30            1           1000\n",
       "1                    2 2015-12-14        NaT            2           2000\n",
       "2                    3 2015-10-20        NaT            3          15000\n",
       "3                    4 2014-10-04 2014-03-20            1          50000\n",
       "4                    5 2014-05-31 2015-07-05            1           4000\n",
       "5                    6 2014-10-05 2015-10-05            3           7000\n",
       "6                    7 2015-12-28        NaT            4          80000\n",
       "7                    8 2015-07-10        NaT            5          50000\n",
       "8                    9 2015-06-30        NaT            6          29000\n",
       "9                   10 2015-04-09        NaT            7           8000\n",
       "10                  11 2015-01-20        NaT            8          68000\n",
       "11                  12 2015-10-27        NaT            9           7000"
      ]
     },
     "metadata": {},
     "output_type": "display_data"
    },
    {
     "data": {
      "text/html": [
       "<div>\n",
       "<style scoped>\n",
       "    .dataframe tbody tr th:only-of-type {\n",
       "        vertical-align: middle;\n",
       "    }\n",
       "\n",
       "    .dataframe tbody tr th {\n",
       "        vertical-align: top;\n",
       "    }\n",
       "\n",
       "    .dataframe thead th {\n",
       "        text-align: right;\n",
       "    }\n",
       "</style>\n",
       "<table border=\"1\" class=\"dataframe\">\n",
       "  <thead>\n",
       "    <tr style=\"text-align: right;\">\n",
       "      <th></th>\n",
       "      <th>DEPOSIT_CONTRACT_ID</th>\n",
       "      <th>START_DATE</th>\n",
       "      <th>END_DATE</th>\n",
       "      <th>CUSTOMER_ID</th>\n",
       "      <th>DEPOSIT_AMOUNT</th>\n",
       "    </tr>\n",
       "  </thead>\n",
       "  <tbody>\n",
       "    <tr>\n",
       "      <th>0</th>\n",
       "      <td>1</td>\n",
       "      <td>2015-04-04</td>\n",
       "      <td>2015-06-03</td>\n",
       "      <td>1</td>\n",
       "      <td>67000</td>\n",
       "    </tr>\n",
       "    <tr>\n",
       "      <th>1</th>\n",
       "      <td>2</td>\n",
       "      <td>2015-10-05</td>\n",
       "      <td>NaT</td>\n",
       "      <td>3</td>\n",
       "      <td>50000</td>\n",
       "    </tr>\n",
       "    <tr>\n",
       "      <th>2</th>\n",
       "      <td>3</td>\n",
       "      <td>2015-12-28</td>\n",
       "      <td>NaT</td>\n",
       "      <td>4</td>\n",
       "      <td>29000</td>\n",
       "    </tr>\n",
       "    <tr>\n",
       "      <th>3</th>\n",
       "      <td>4</td>\n",
       "      <td>2015-09-29</td>\n",
       "      <td>2015-11-13</td>\n",
       "      <td>5</td>\n",
       "      <td>8000</td>\n",
       "    </tr>\n",
       "    <tr>\n",
       "      <th>4</th>\n",
       "      <td>5</td>\n",
       "      <td>2015-11-24</td>\n",
       "      <td>NaT</td>\n",
       "      <td>6</td>\n",
       "      <td>68000</td>\n",
       "    </tr>\n",
       "    <tr>\n",
       "      <th>5</th>\n",
       "      <td>6</td>\n",
       "      <td>2015-08-24</td>\n",
       "      <td>NaT</td>\n",
       "      <td>7</td>\n",
       "      <td>7000</td>\n",
       "    </tr>\n",
       "    <tr>\n",
       "      <th>6</th>\n",
       "      <td>7</td>\n",
       "      <td>2015-03-13</td>\n",
       "      <td>2015-07-11</td>\n",
       "      <td>2</td>\n",
       "      <td>60000</td>\n",
       "    </tr>\n",
       "    <tr>\n",
       "      <th>7</th>\n",
       "      <td>8</td>\n",
       "      <td>2015-07-16</td>\n",
       "      <td>NaT</td>\n",
       "      <td>1</td>\n",
       "      <td>79000</td>\n",
       "    </tr>\n",
       "  </tbody>\n",
       "</table>\n",
       "</div>"
      ],
      "text/plain": [
       "   DEPOSIT_CONTRACT_ID START_DATE   END_DATE  CUSTOMER_ID  DEPOSIT_AMOUNT\n",
       "0                    1 2015-04-04 2015-06-03            1           67000\n",
       "1                    2 2015-10-05        NaT            3           50000\n",
       "2                    3 2015-12-28        NaT            4           29000\n",
       "3                    4 2015-09-29 2015-11-13            5            8000\n",
       "4                    5 2015-11-24        NaT            6           68000\n",
       "5                    6 2015-08-24        NaT            7            7000\n",
       "6                    7 2015-03-13 2015-07-11            2           60000\n",
       "7                    8 2015-07-16        NaT            1           79000"
      ]
     },
     "metadata": {},
     "output_type": "display_data"
    },
    {
     "data": {
      "text/html": [
       "<div>\n",
       "<style scoped>\n",
       "    .dataframe tbody tr th:only-of-type {\n",
       "        vertical-align: middle;\n",
       "    }\n",
       "\n",
       "    .dataframe tbody tr th {\n",
       "        vertical-align: top;\n",
       "    }\n",
       "\n",
       "    .dataframe thead th {\n",
       "        text-align: right;\n",
       "    }\n",
       "</style>\n",
       "<table border=\"1\" class=\"dataframe\">\n",
       "  <thead>\n",
       "    <tr style=\"text-align: right;\">\n",
       "      <th></th>\n",
       "      <th>CUSTOMER_ID</th>\n",
       "      <th>NAME</th>\n",
       "      <th>BIRTH_DATE</th>\n",
       "      <th>CITY</th>\n",
       "    </tr>\n",
       "  </thead>\n",
       "  <tbody>\n",
       "    <tr>\n",
       "      <th>0</th>\n",
       "      <td>1</td>\n",
       "      <td>Серик</td>\n",
       "      <td>1975-09-20</td>\n",
       "      <td>Алматы</td>\n",
       "    </tr>\n",
       "    <tr>\n",
       "      <th>1</th>\n",
       "      <td>2</td>\n",
       "      <td>Динара</td>\n",
       "      <td>1977-07-22</td>\n",
       "      <td>Алматы</td>\n",
       "    </tr>\n",
       "    <tr>\n",
       "      <th>2</th>\n",
       "      <td>3</td>\n",
       "      <td>Марат</td>\n",
       "      <td>1969-01-02</td>\n",
       "      <td>Астана</td>\n",
       "    </tr>\n",
       "    <tr>\n",
       "      <th>3</th>\n",
       "      <td>4</td>\n",
       "      <td>Олег</td>\n",
       "      <td>1967-09-27</td>\n",
       "      <td>Астана</td>\n",
       "    </tr>\n",
       "    <tr>\n",
       "      <th>4</th>\n",
       "      <td>5</td>\n",
       "      <td>Марина</td>\n",
       "      <td>1969-10-12</td>\n",
       "      <td>Алматы</td>\n",
       "    </tr>\n",
       "    <tr>\n",
       "      <th>5</th>\n",
       "      <td>6</td>\n",
       "      <td>Дильшат</td>\n",
       "      <td>1979-10-08</td>\n",
       "      <td>Караганда</td>\n",
       "    </tr>\n",
       "    <tr>\n",
       "      <th>6</th>\n",
       "      <td>7</td>\n",
       "      <td>Ануар</td>\n",
       "      <td>1982-04-17</td>\n",
       "      <td>Кызылорда</td>\n",
       "    </tr>\n",
       "    <tr>\n",
       "      <th>7</th>\n",
       "      <td>8</td>\n",
       "      <td>Михаил</td>\n",
       "      <td>1980-12-11</td>\n",
       "      <td>Атырау</td>\n",
       "    </tr>\n",
       "    <tr>\n",
       "      <th>8</th>\n",
       "      <td>9</td>\n",
       "      <td>Екатерина</td>\n",
       "      <td>1987-02-12</td>\n",
       "      <td>Актобе</td>\n",
       "    </tr>\n",
       "  </tbody>\n",
       "</table>\n",
       "</div>"
      ],
      "text/plain": [
       "   CUSTOMER_ID       NAME BIRTH_DATE       CITY\n",
       "0            1      Серик 1975-09-20     Алматы\n",
       "1            2     Динара 1977-07-22     Алматы\n",
       "2            3      Марат 1969-01-02     Астана\n",
       "3            4       Олег 1967-09-27     Астана\n",
       "4            5     Марина 1969-10-12     Алматы\n",
       "5            6    Дильшат 1979-10-08  Караганда\n",
       "6            7      Ануар 1982-04-17  Кызылорда\n",
       "7            8     Михаил 1980-12-11     Атырау\n",
       "8            9  Екатерина 1987-02-12     Актобе"
      ]
     },
     "metadata": {},
     "output_type": "display_data"
    }
   ],
   "source": [
    "t1 = pd.read_excel('t1.xlsx')\n",
    "t2 = pd.read_excel('t2.xlsx')\n",
    "t3 = pd.read_excel('t3.xlsx')\n",
    "display(t1)\n",
    "display(t2)\n",
    "display(t3)"
   ]
  },
  {
   "cell_type": "markdown",
   "id": "9929df39",
   "metadata": {},
   "source": [
    "SELECT \n",
    "\n",
    "t3.CUSTOMER_ID,\n",
    "    \n",
    "t3.NAME,\n",
    "\n",
    "t3.CITY\n",
    "    \n",
    "FROM t3\n",
    "    \n",
    "JOIN t1 ON t3.CUSTOMER_ID = t1.CUSTOMER_ID\n",
    "\n",
    "WHERE t1.END_DATE IS NULL;"
   ]
  },
  {
   "attachments": {},
   "cell_type": "markdown",
   "id": "77981e84",
   "metadata": {},
   "source": [
    "### Задача 2\n",
    "\n",
    "Существует таблица POPULATION_C.\n",
    "\n",
    "Напишите на ваш взгляд оптимальный запрос, в результате которого должна получиться вторая таблица (где SUM_POPUL = сумма населения всех указанных городов страны):"
   ]
  },
  {
   "cell_type": "code",
   "execution_count": 31,
   "id": "43d3aaf6",
   "metadata": {},
   "outputs": [
    {
     "data": {
      "text/html": [
       "<div>\n",
       "<style scoped>\n",
       "    .dataframe tbody tr th:only-of-type {\n",
       "        vertical-align: middle;\n",
       "    }\n",
       "\n",
       "    .dataframe tbody tr th {\n",
       "        vertical-align: top;\n",
       "    }\n",
       "\n",
       "    .dataframe thead th {\n",
       "        text-align: right;\n",
       "    }\n",
       "</style>\n",
       "<table border=\"1\" class=\"dataframe\">\n",
       "  <thead>\n",
       "    <tr style=\"text-align: right;\">\n",
       "      <th></th>\n",
       "      <th>ID</th>\n",
       "      <th>COUTRY</th>\n",
       "      <th>CITY</th>\n",
       "      <th>POPULATION</th>\n",
       "    </tr>\n",
       "  </thead>\n",
       "  <tbody>\n",
       "    <tr>\n",
       "      <th>0</th>\n",
       "      <td>1</td>\n",
       "      <td>США</td>\n",
       "      <td>Нью-Йорк</td>\n",
       "      <td>8000000</td>\n",
       "    </tr>\n",
       "    <tr>\n",
       "      <th>1</th>\n",
       "      <td>2</td>\n",
       "      <td>США</td>\n",
       "      <td>Лос-Анжелес</td>\n",
       "      <td>7000000</td>\n",
       "    </tr>\n",
       "    <tr>\n",
       "      <th>2</th>\n",
       "      <td>3</td>\n",
       "      <td>США</td>\n",
       "      <td>Чикаго</td>\n",
       "      <td>4000000</td>\n",
       "    </tr>\n",
       "    <tr>\n",
       "      <th>3</th>\n",
       "      <td>4</td>\n",
       "      <td>Казахстан</td>\n",
       "      <td>Алматы</td>\n",
       "      <td>1500000</td>\n",
       "    </tr>\n",
       "    <tr>\n",
       "      <th>4</th>\n",
       "      <td>5</td>\n",
       "      <td>Казахстан</td>\n",
       "      <td>Астана</td>\n",
       "      <td>800000</td>\n",
       "    </tr>\n",
       "    <tr>\n",
       "      <th>5</th>\n",
       "      <td>6</td>\n",
       "      <td>Казахстан</td>\n",
       "      <td>Шымкент</td>\n",
       "      <td>900000</td>\n",
       "    </tr>\n",
       "    <tr>\n",
       "      <th>6</th>\n",
       "      <td>7</td>\n",
       "      <td>Япония</td>\n",
       "      <td>Токио</td>\n",
       "      <td>12000000</td>\n",
       "    </tr>\n",
       "    <tr>\n",
       "      <th>7</th>\n",
       "      <td>8</td>\n",
       "      <td>Япония</td>\n",
       "      <td>Окинава</td>\n",
       "      <td>1000000</td>\n",
       "    </tr>\n",
       "  </tbody>\n",
       "</table>\n",
       "</div>"
      ],
      "text/plain": [
       "   ID     COUTRY         CITY  POPULATION\n",
       "0   1        США     Нью-Йорк     8000000\n",
       "1   2        США  Лос-Анжелес     7000000\n",
       "2   3        США       Чикаго     4000000\n",
       "3   4  Казахстан       Алматы     1500000\n",
       "4   5  Казахстан       Астана      800000\n",
       "5   6  Казахстан      Шымкент      900000\n",
       "6   7     Япония        Токио    12000000\n",
       "7   8     Япония      Окинава     1000000"
      ]
     },
     "metadata": {},
     "output_type": "display_data"
    },
    {
     "data": {
      "text/html": [
       "<div>\n",
       "<style scoped>\n",
       "    .dataframe tbody tr th:only-of-type {\n",
       "        vertical-align: middle;\n",
       "    }\n",
       "\n",
       "    .dataframe tbody tr th {\n",
       "        vertical-align: top;\n",
       "    }\n",
       "\n",
       "    .dataframe thead th {\n",
       "        text-align: right;\n",
       "    }\n",
       "</style>\n",
       "<table border=\"1\" class=\"dataframe\">\n",
       "  <thead>\n",
       "    <tr style=\"text-align: right;\">\n",
       "      <th></th>\n",
       "      <th>ID</th>\n",
       "      <th>COUTRY</th>\n",
       "      <th>CITY</th>\n",
       "      <th>POPULATION</th>\n",
       "      <th>SUM_POPUL</th>\n",
       "    </tr>\n",
       "  </thead>\n",
       "  <tbody>\n",
       "    <tr>\n",
       "      <th>0</th>\n",
       "      <td>1</td>\n",
       "      <td>США</td>\n",
       "      <td>Нью-Йорк</td>\n",
       "      <td>8000000</td>\n",
       "      <td>19000000</td>\n",
       "    </tr>\n",
       "    <tr>\n",
       "      <th>1</th>\n",
       "      <td>2</td>\n",
       "      <td>США</td>\n",
       "      <td>Лос-Анжелес</td>\n",
       "      <td>7000000</td>\n",
       "      <td>19000000</td>\n",
       "    </tr>\n",
       "    <tr>\n",
       "      <th>2</th>\n",
       "      <td>3</td>\n",
       "      <td>США</td>\n",
       "      <td>Чикаго</td>\n",
       "      <td>4000000</td>\n",
       "      <td>19000000</td>\n",
       "    </tr>\n",
       "    <tr>\n",
       "      <th>3</th>\n",
       "      <td>4</td>\n",
       "      <td>Казахстан</td>\n",
       "      <td>Алматы</td>\n",
       "      <td>1500000</td>\n",
       "      <td>3200000</td>\n",
       "    </tr>\n",
       "    <tr>\n",
       "      <th>4</th>\n",
       "      <td>5</td>\n",
       "      <td>Казахстан</td>\n",
       "      <td>Астана</td>\n",
       "      <td>800000</td>\n",
       "      <td>3200000</td>\n",
       "    </tr>\n",
       "    <tr>\n",
       "      <th>5</th>\n",
       "      <td>6</td>\n",
       "      <td>Казахстан</td>\n",
       "      <td>Шымкент</td>\n",
       "      <td>900000</td>\n",
       "      <td>3200000</td>\n",
       "    </tr>\n",
       "    <tr>\n",
       "      <th>6</th>\n",
       "      <td>7</td>\n",
       "      <td>Япония</td>\n",
       "      <td>Токио</td>\n",
       "      <td>12000000</td>\n",
       "      <td>13000000</td>\n",
       "    </tr>\n",
       "    <tr>\n",
       "      <th>7</th>\n",
       "      <td>8</td>\n",
       "      <td>Япония</td>\n",
       "      <td>Окинава</td>\n",
       "      <td>1000000</td>\n",
       "      <td>13000000</td>\n",
       "    </tr>\n",
       "  </tbody>\n",
       "</table>\n",
       "</div>"
      ],
      "text/plain": [
       "   ID     COUTRY         CITY  POPULATION  SUM_POPUL\n",
       "0   1        США     Нью-Йорк     8000000   19000000\n",
       "1   2        США  Лос-Анжелес     7000000   19000000\n",
       "2   3        США       Чикаго     4000000   19000000\n",
       "3   4  Казахстан       Алматы     1500000    3200000\n",
       "4   5  Казахстан       Астана      800000    3200000\n",
       "5   6  Казахстан      Шымкент      900000    3200000\n",
       "6   7     Япония        Токио    12000000   13000000\n",
       "7   8     Япония      Окинава     1000000   13000000"
      ]
     },
     "metadata": {},
     "output_type": "display_data"
    }
   ],
   "source": [
    "population_c = pd.read_excel('population_c.xlsx')\n",
    "population_c1 = pd.read_excel('population_c1.xlsx')\n",
    "display(population_c)\n",
    "display(population_c1)"
   ]
  },
  {
   "cell_type": "markdown",
   "id": "56ba02e7",
   "metadata": {},
   "source": [
    "SELECT \n",
    "\n",
    "ID, \n",
    "\n",
    "COUNTRY, \n",
    "\n",
    "CITY, \n",
    "\n",
    "POPULATION,\n",
    "\n",
    "SUM(POPULATION) OVER (PARTITION BY COUNTRY) as SUM_POPUL\n",
    "\n",
    "FROM POPULATION_C;"
   ]
  },
  {
   "cell_type": "markdown",
   "id": "bcd2ce91",
   "metadata": {},
   "source": [
    "### Задача 3\n",
    "\n",
    "В базе данных хранятся 3 таблицы.\n",
    "\n",
    "- Первая содержит данные о товарах: таблица **Items** с полями ID, Name, Serial_Number\n",
    "\n",
    "- Вторая содержит данные о местах хранения: таблица **Warehouses** с полями ID, Name, Address, MOL\n",
    "\n",
    "- Третья таблица содержит данные о движении товара на местах хранения: таблица **Details** с полями ID, Item_ID, Warehouse_ID, Count\n",
    "\n",
    "А) Написать запрос, в результате выполнения которого будет выводится информация об остатках товаров на складах, наименовании складов, наименовании товаров, серийный номер товаров и MOL складов.\n",
    "\n",
    "Б) Написать запрос, в результате выполнения которого будет выводится информация о товарах, остатки которого на складах превышают 500 единиц.\n"
   ]
  },
  {
   "cell_type": "markdown",
   "id": "4878e478",
   "metadata": {},
   "source": [
    "A) SELECT \n",
    "\n",
    "w.Name AS Warehouse_Name,\n",
    "\n",
    "i.Name AS Item_Name,\n",
    "\n",
    "i.Serial_Number,\n",
    "\n",
    "w.MOL,\n",
    "\n",
    "SUM(d.Count) AS Remaining_Count\n",
    "\n",
    "FROM Details d\n",
    "\n",
    "JOIN Warehouses w ON d.Warehouse_ID = w.ID\n",
    "\n",
    "JOIN Items i ON d.Item_ID = i.ID\n",
    "\n",
    "GROUP BY w.Name, i.Name, i.Serial_Number, w.MOL;\n",
    "\n",
    "Б) SELECT \n",
    "\n",
    "i.Name AS Item_Name,\n",
    "\n",
    "i.Serial_Number,\n",
    "\n",
    "SUM(d.Count) AS Remaining_Count\n",
    "\n",
    "FROM Details d\n",
    "\n",
    "JOIN Items i ON d.Item_ID = i.ID\n",
    "\n",
    "GROUP BY i.Name, i.Serial_Number\n",
    "\n",
    "HAVING SUM(d.Count) > 500;"
   ]
  },
  {
   "cell_type": "markdown",
   "id": "b729d40f",
   "metadata": {},
   "source": [
    "### Задача 4\n",
    "\n",
    "Бонусная задачка в Excel:\n",
    "\n",
    "Напишите формулу по следующей логике: если значение ячейки А1 не равно 5, то вывести надпись \"не равно\". В ином случае вывести надпись \"равно\"."
   ]
  },
  {
   "cell_type": "markdown",
   "id": "9deae942",
   "metadata": {},
   "source": [
    "=IF(A1<>5, \"не равно\", \"равно\")\n",
    "\n",
    "=ЕСЛИ(A1<>5, \"не равно\", \"равно\")"
   ]
  }
 ],
 "metadata": {
  "kernelspec": {
   "display_name": "Python 3 (ipykernel)",
   "language": "python",
   "name": "python3"
  },
  "language_info": {
   "codemirror_mode": {
    "name": "ipython",
    "version": 3
   },
   "file_extension": ".py",
   "mimetype": "text/x-python",
   "name": "python",
   "nbconvert_exporter": "python",
   "pygments_lexer": "ipython3",
   "version": "3.9.13"
  },
  "toc": {
   "base_numbering": 1,
   "nav_menu": {},
   "number_sections": true,
   "sideBar": true,
   "skip_h1_title": true,
   "title_cell": "Table of Contents",
   "title_sidebar": "Contents",
   "toc_cell": true,
   "toc_position": {},
   "toc_section_display": true,
   "toc_window_display": false
  }
 },
 "nbformat": 4,
 "nbformat_minor": 5
}
